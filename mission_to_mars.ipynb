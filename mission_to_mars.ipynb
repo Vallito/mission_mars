{
 "cells": [
  {
   "cell_type": "code",
   "execution_count": 2,
   "metadata": {},
   "outputs": [
    {
     "name": "stdout",
     "output_type": "stream",
     "text": [
      "Reconstructing Mars here on Earth lets them practice setting down the lander's science instruments.\n"
     ]
    }
   ],
   "source": [
    "#import libraries\n",
    "from bs4 import BeautifulSoup\n",
    "import pymongo\n",
    "from splinter import Browser\n",
    "import requests\n",
    "import time\n",
    "import pandas as pd\n",
    "\n",
    "#set up splinter browser\n",
    "executable_path = {'executable_path': 'chromedriver.exe'}\n",
    "browser = Browser('chrome', **executable_path, headless=False)\n",
    "\n",
    "#visit url\n",
    "url = \"https://mars.nasa.gov/news/\"\n",
    "browser.visit(url)\n",
    "\n",
    "#pull html text and parse\n",
    "html_code = browser.html\n",
    "soup = BeautifulSoup(html_code, \"html.parser\")\n",
    "\n",
    "\n",
    "#print first news title\n",
    "news_title = soup.find('div', class_= 'content_title').text\n",
    "\n",
    "#print paragraph of news title\n",
    "news_p = soup.find('div', class_='article_teaser_body').text\n",
    "\n",
    "#executable_path = {'executable_path': 'chromedriver.exe'}\n",
    "#browser = Browser('chrome', **executable_path, headless=False)\n",
    "\n",
    "#visit url\n",
    "featured_image_url= \"https://www.jpl.nasa.gov/spaceimages/?search=&category=Mars\"\n",
    "browser.visit(featured_image_url)\n",
    "\n",
    "#pull html text and parse\n",
    "test_code = browser.html\n",
    "soup = BeautifulSoup(test_code, \"html.parser\")\n",
    "print(news_p)"
   ]
  },
  {
   "cell_type": "code",
   "execution_count": 2,
   "metadata": {},
   "outputs": [],
   "source": [
    "browser.click_link_by_partial_text('FULL IMAGE')\n",
    "time.sleep(5)\n",
    "browser.click_link_by_partial_text('more info')\n",
    "time.sleep(10)\n",
    "image_path = soup.find_all('img')[0][\"src\"]\n",
    "featured_image_url = \"https://www.jpl.nasa.gov/\" + image_path\n",
    "\n",
    "print(featured_image_url)\n",
    "\n",
    "mars_tweeter = 'https://twitter.com/marswxreport?lang=en'\n",
    "browser.visit(mars_tweeter)\n",
    "weather_html = browser.html\n",
    "soup = BeautifulSoup(weather_html, 'html.parser')\n",
    "\n",
    "mars_weather = soup.find('p', class_=\"TweetTextSize TweetTextSize--normal js-tweet-text tweet-text\").text\n",
    "print(mars_weather)\n",
    "\n",
    "mars_info = 'http://space-facts.com/mars/'\n",
    "\n",
    "tables = pd.read_html(mars_info)\n",
    "tables\n",
    "\n",
    "df = tables[0]\n",
    "html_table = df.to_html()\n",
    "\n",
    "mars_hemi = 'https://astrogeology.usgs.gov/search/results?q=hemisphere+enhanced&k1=target&v1=Mars'\n",
    "browser.visit(mars_hemi)\n",
    "hemi_html = browser.html\n",
    "soup = BeautifulSoup(hemi_html,'html.parser')\n",
    "hemispheres = ['Cerberus','Schiaparelli','Syrtis Major','Valles Marineris']\n",
    "hemisphere_image_urls = []\n",
    "for sphere in hemispheres:\n",
    "    browser.click_link_by_partial_text(f\"{sphere} Hemisphere Enhanced\")\n",
    "    time.sleep(3)\n",
    "    website = browser.html\n",
    "    new_soup = BeautifulSoup(website,'html.parser')\n",
    "    hemi_source = new_soup.find_all('div', class_='downloads')[0]\n",
    "    sphere_image = hemi_source.find_all('a')[0]['href']\n",
    "    browser.click_link_by_partial_text('Back')\n",
    "    title_image_urls = ({f\"title: {sphere} Hemisphere, img_url: {sphere_image}\"})\n",
    "    hemisphere_image_urls.append(title_image_urls)\n",
    "\n",
    "print(list_dict_image)"
   ]
  }
 ],
 "metadata": {
  "kernelspec": {
   "display_name": "Python 3",
   "language": "python",
   "name": "python3"
  },
  "language_info": {
   "codemirror_mode": {
    "name": "ipython",
    "version": 3
   },
   "file_extension": ".py",
   "mimetype": "text/x-python",
   "name": "python",
   "nbconvert_exporter": "python",
   "pygments_lexer": "ipython3",
   "version": "3.6.5"
  }
 },
 "nbformat": 4,
 "nbformat_minor": 2
}
